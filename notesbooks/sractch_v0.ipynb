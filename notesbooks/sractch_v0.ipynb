{
 "cells": [
  {
   "cell_type": "code",
   "execution_count": 1,
   "id": "7109e618",
   "metadata": {},
   "outputs": [],
   "source": [
    "import polars as pl"
   ]
  },
  {
   "cell_type": "markdown",
   "id": "c6b60858",
   "metadata": {},
   "source": [
    "# Select relavant data from USDA"
   ]
  },
  {
   "cell_type": "code",
   "execution_count": 26,
   "id": "344954a9",
   "metadata": {},
   "outputs": [],
   "source": [
    "def load_food_data(file: str, data_root=None) -> pl.DataFrame:\n",
    "    \"\"\"\n",
    "    Load food data from a CSV file using Polars.\n",
    "\n",
    "    Parameters:\n",
    "    - data_root (str): The root directory of the data.\n",
    "    - file (str): The name of the CSV file.\n",
    "\n",
    "    Returns:\n",
    "    - pl.DataFrame: The loaded Polars DataFrame.\n",
    "    \"\"\"\n",
    "    if data_root is None:\n",
    "        data_root = \"/Users/lichen/code/projects/joseph/data/fndds\"\n",
    "\n",
    "    return pl.read_excel(f\"{data_root}/{file}.xlsx\")\n"
   ]
  },
  {
   "cell_type": "code",
   "execution_count": 27,
   "id": "09a29be7",
   "metadata": {},
   "outputs": [
    {
     "ename": "ModuleNotFoundError",
     "evalue": "required package 'fastexcel' not found.\nPlease install using the command `pip install fastexcel`.",
     "output_type": "error",
     "traceback": [
      "\u001b[0;31m---------------------------------------------------------------------------\u001b[0m",
      "\u001b[0;31mModuleNotFoundError\u001b[0m                       Traceback (most recent call last)",
      "Cell \u001b[0;32mIn[27], line 1\u001b[0m\n\u001b[0;32m----> 1\u001b[0m df \u001b[38;5;241m=\u001b[39m load_food_data(\u001b[38;5;124m'\u001b[39m\u001b[38;5;124mNutrient Values\u001b[39m\u001b[38;5;124m'\u001b[39m)\n\u001b[1;32m      2\u001b[0m df\n",
      "Cell \u001b[0;32mIn[26], line 15\u001b[0m, in \u001b[0;36mload_food_data\u001b[0;34m(file, data_root)\u001b[0m\n\u001b[1;32m     12\u001b[0m \u001b[38;5;28;01mif\u001b[39;00m data_root \u001b[38;5;129;01mis\u001b[39;00m \u001b[38;5;28;01mNone\u001b[39;00m:\n\u001b[1;32m     13\u001b[0m     data_root \u001b[38;5;241m=\u001b[39m \u001b[38;5;124m\"\u001b[39m\u001b[38;5;124m/Users/lichen/code/projects/joseph/data/fndds\u001b[39m\u001b[38;5;124m\"\u001b[39m\n\u001b[0;32m---> 15\u001b[0m \u001b[38;5;28;01mreturn\u001b[39;00m pl\u001b[38;5;241m.\u001b[39mread_excel(\u001b[38;5;124mf\u001b[39m\u001b[38;5;124m\"\u001b[39m\u001b[38;5;132;01m{\u001b[39;00mdata_root\u001b[38;5;132;01m}\u001b[39;00m\u001b[38;5;124m/\u001b[39m\u001b[38;5;132;01m{\u001b[39;00mfile\u001b[38;5;132;01m}\u001b[39;00m\u001b[38;5;124m.xlsx\u001b[39m\u001b[38;5;124m\"\u001b[39m)\n",
      "File \u001b[0;32m/opt/anaconda3/envs/greenlake0/lib/python3.11/site-packages/polars/_utils/deprecation.py:92\u001b[0m, in \u001b[0;36mdeprecate_renamed_parameter.<locals>.decorate.<locals>.wrapper\u001b[0;34m(*args, **kwargs)\u001b[0m\n\u001b[1;32m     87\u001b[0m \u001b[38;5;129m@wraps\u001b[39m(function)\n\u001b[1;32m     88\u001b[0m \u001b[38;5;28;01mdef\u001b[39;00m \u001b[38;5;21mwrapper\u001b[39m(\u001b[38;5;241m*\u001b[39margs: P\u001b[38;5;241m.\u001b[39margs, \u001b[38;5;241m*\u001b[39m\u001b[38;5;241m*\u001b[39mkwargs: P\u001b[38;5;241m.\u001b[39mkwargs) \u001b[38;5;241m-\u001b[39m\u001b[38;5;241m>\u001b[39m T:\n\u001b[1;32m     89\u001b[0m     _rename_keyword_argument(\n\u001b[1;32m     90\u001b[0m         old_name, new_name, kwargs, function\u001b[38;5;241m.\u001b[39m\u001b[38;5;18m__qualname__\u001b[39m, version\n\u001b[1;32m     91\u001b[0m     )\n\u001b[0;32m---> 92\u001b[0m     \u001b[38;5;28;01mreturn\u001b[39;00m function(\u001b[38;5;241m*\u001b[39margs, \u001b[38;5;241m*\u001b[39m\u001b[38;5;241m*\u001b[39mkwargs)\n",
      "File \u001b[0;32m/opt/anaconda3/envs/greenlake0/lib/python3.11/site-packages/polars/_utils/deprecation.py:92\u001b[0m, in \u001b[0;36mdeprecate_renamed_parameter.<locals>.decorate.<locals>.wrapper\u001b[0;34m(*args, **kwargs)\u001b[0m\n\u001b[1;32m     87\u001b[0m \u001b[38;5;129m@wraps\u001b[39m(function)\n\u001b[1;32m     88\u001b[0m \u001b[38;5;28;01mdef\u001b[39;00m \u001b[38;5;21mwrapper\u001b[39m(\u001b[38;5;241m*\u001b[39margs: P\u001b[38;5;241m.\u001b[39margs, \u001b[38;5;241m*\u001b[39m\u001b[38;5;241m*\u001b[39mkwargs: P\u001b[38;5;241m.\u001b[39mkwargs) \u001b[38;5;241m-\u001b[39m\u001b[38;5;241m>\u001b[39m T:\n\u001b[1;32m     89\u001b[0m     _rename_keyword_argument(\n\u001b[1;32m     90\u001b[0m         old_name, new_name, kwargs, function\u001b[38;5;241m.\u001b[39m\u001b[38;5;18m__qualname__\u001b[39m, version\n\u001b[1;32m     91\u001b[0m     )\n\u001b[0;32m---> 92\u001b[0m     \u001b[38;5;28;01mreturn\u001b[39;00m function(\u001b[38;5;241m*\u001b[39margs, \u001b[38;5;241m*\u001b[39m\u001b[38;5;241m*\u001b[39mkwargs)\n",
      "File \u001b[0;32m/opt/anaconda3/envs/greenlake0/lib/python3.11/site-packages/polars/io/spreadsheet/functions.py:395\u001b[0m, in \u001b[0;36mread_excel\u001b[0;34m(source, sheet_id, sheet_name, table_name, engine, engine_options, read_options, has_header, columns, schema_overrides, infer_schema_length, include_file_paths, drop_empty_rows, drop_empty_cols, raise_if_empty)\u001b[0m\n\u001b[1;32m    256\u001b[0m \u001b[38;5;250m\u001b[39m\u001b[38;5;124;03m\"\"\"\u001b[39;00m\n\u001b[1;32m    257\u001b[0m \u001b[38;5;124;03mRead Excel spreadsheet data into a DataFrame.\u001b[39;00m\n\u001b[1;32m    258\u001b[0m \n\u001b[0;32m   (...)\u001b[0m\n\u001b[1;32m    392\u001b[0m \u001b[38;5;124;03m... )  # doctest: +SKIP\u001b[39;00m\n\u001b[1;32m    393\u001b[0m \u001b[38;5;124;03m\"\"\"\u001b[39;00m\n\u001b[1;32m    394\u001b[0m sources, read_multiple_workbooks \u001b[38;5;241m=\u001b[39m _sources(source)\n\u001b[0;32m--> 395\u001b[0m frames: \u001b[38;5;28mlist\u001b[39m[pl\u001b[38;5;241m.\u001b[39mDataFrame] \u001b[38;5;241m|\u001b[39m \u001b[38;5;28mlist\u001b[39m[\u001b[38;5;28mdict\u001b[39m[\u001b[38;5;28mstr\u001b[39m, pl\u001b[38;5;241m.\u001b[39mDataFrame]] \u001b[38;5;241m=\u001b[39m [  \u001b[38;5;66;03m# type: ignore[assignment]\u001b[39;00m\n\u001b[1;32m    396\u001b[0m     _read_spreadsheet(\n\u001b[1;32m    397\u001b[0m         src,\n\u001b[1;32m    398\u001b[0m         sheet_id\u001b[38;5;241m=\u001b[39msheet_id,\n\u001b[1;32m    399\u001b[0m         sheet_name\u001b[38;5;241m=\u001b[39msheet_name,\n\u001b[1;32m    400\u001b[0m         table_name\u001b[38;5;241m=\u001b[39mtable_name,\n\u001b[1;32m    401\u001b[0m         engine\u001b[38;5;241m=\u001b[39mengine,\n\u001b[1;32m    402\u001b[0m         engine_options\u001b[38;5;241m=\u001b[39mengine_options,\n\u001b[1;32m    403\u001b[0m         read_options\u001b[38;5;241m=\u001b[39mread_options,\n\u001b[1;32m    404\u001b[0m         schema_overrides\u001b[38;5;241m=\u001b[39mschema_overrides,\n\u001b[1;32m    405\u001b[0m         infer_schema_length\u001b[38;5;241m=\u001b[39minfer_schema_length,\n\u001b[1;32m    406\u001b[0m         include_file_paths\u001b[38;5;241m=\u001b[39minclude_file_paths,\n\u001b[1;32m    407\u001b[0m         raise_if_empty\u001b[38;5;241m=\u001b[39mraise_if_empty,\n\u001b[1;32m    408\u001b[0m         has_header\u001b[38;5;241m=\u001b[39mhas_header,\n\u001b[1;32m    409\u001b[0m         columns\u001b[38;5;241m=\u001b[39mcolumns,\n\u001b[1;32m    410\u001b[0m         drop_empty_rows\u001b[38;5;241m=\u001b[39mdrop_empty_rows,\n\u001b[1;32m    411\u001b[0m         drop_empty_cols\u001b[38;5;241m=\u001b[39mdrop_empty_cols,\n\u001b[1;32m    412\u001b[0m     )\n\u001b[1;32m    413\u001b[0m     \u001b[38;5;28;01mfor\u001b[39;00m src \u001b[38;5;129;01min\u001b[39;00m sources\n\u001b[1;32m    414\u001b[0m ]\n\u001b[1;32m    415\u001b[0m \u001b[38;5;28;01mreturn\u001b[39;00m _unpack_read_results(\n\u001b[1;32m    416\u001b[0m     frames\u001b[38;5;241m=\u001b[39mframes,\n\u001b[1;32m    417\u001b[0m     read_multiple_workbooks\u001b[38;5;241m=\u001b[39mread_multiple_workbooks,\n\u001b[1;32m    418\u001b[0m )\n",
      "File \u001b[0;32m/opt/anaconda3/envs/greenlake0/lib/python3.11/site-packages/polars/io/spreadsheet/functions.py:396\u001b[0m, in \u001b[0;36m<listcomp>\u001b[0;34m(.0)\u001b[0m\n\u001b[1;32m    256\u001b[0m \u001b[38;5;250m\u001b[39m\u001b[38;5;124;03m\"\"\"\u001b[39;00m\n\u001b[1;32m    257\u001b[0m \u001b[38;5;124;03mRead Excel spreadsheet data into a DataFrame.\u001b[39;00m\n\u001b[1;32m    258\u001b[0m \n\u001b[0;32m   (...)\u001b[0m\n\u001b[1;32m    392\u001b[0m \u001b[38;5;124;03m... )  # doctest: +SKIP\u001b[39;00m\n\u001b[1;32m    393\u001b[0m \u001b[38;5;124;03m\"\"\"\u001b[39;00m\n\u001b[1;32m    394\u001b[0m sources, read_multiple_workbooks \u001b[38;5;241m=\u001b[39m _sources(source)\n\u001b[1;32m    395\u001b[0m frames: \u001b[38;5;28mlist\u001b[39m[pl\u001b[38;5;241m.\u001b[39mDataFrame] \u001b[38;5;241m|\u001b[39m \u001b[38;5;28mlist\u001b[39m[\u001b[38;5;28mdict\u001b[39m[\u001b[38;5;28mstr\u001b[39m, pl\u001b[38;5;241m.\u001b[39mDataFrame]] \u001b[38;5;241m=\u001b[39m [  \u001b[38;5;66;03m# type: ignore[assignment]\u001b[39;00m\n\u001b[0;32m--> 396\u001b[0m     _read_spreadsheet(\n\u001b[1;32m    397\u001b[0m         src,\n\u001b[1;32m    398\u001b[0m         sheet_id\u001b[38;5;241m=\u001b[39msheet_id,\n\u001b[1;32m    399\u001b[0m         sheet_name\u001b[38;5;241m=\u001b[39msheet_name,\n\u001b[1;32m    400\u001b[0m         table_name\u001b[38;5;241m=\u001b[39mtable_name,\n\u001b[1;32m    401\u001b[0m         engine\u001b[38;5;241m=\u001b[39mengine,\n\u001b[1;32m    402\u001b[0m         engine_options\u001b[38;5;241m=\u001b[39mengine_options,\n\u001b[1;32m    403\u001b[0m         read_options\u001b[38;5;241m=\u001b[39mread_options,\n\u001b[1;32m    404\u001b[0m         schema_overrides\u001b[38;5;241m=\u001b[39mschema_overrides,\n\u001b[1;32m    405\u001b[0m         infer_schema_length\u001b[38;5;241m=\u001b[39minfer_schema_length,\n\u001b[1;32m    406\u001b[0m         include_file_paths\u001b[38;5;241m=\u001b[39minclude_file_paths,\n\u001b[1;32m    407\u001b[0m         raise_if_empty\u001b[38;5;241m=\u001b[39mraise_if_empty,\n\u001b[1;32m    408\u001b[0m         has_header\u001b[38;5;241m=\u001b[39mhas_header,\n\u001b[1;32m    409\u001b[0m         columns\u001b[38;5;241m=\u001b[39mcolumns,\n\u001b[1;32m    410\u001b[0m         drop_empty_rows\u001b[38;5;241m=\u001b[39mdrop_empty_rows,\n\u001b[1;32m    411\u001b[0m         drop_empty_cols\u001b[38;5;241m=\u001b[39mdrop_empty_cols,\n\u001b[1;32m    412\u001b[0m     )\n\u001b[1;32m    413\u001b[0m     \u001b[38;5;28;01mfor\u001b[39;00m src \u001b[38;5;129;01min\u001b[39;00m sources\n\u001b[1;32m    414\u001b[0m ]\n\u001b[1;32m    415\u001b[0m \u001b[38;5;28;01mreturn\u001b[39;00m _unpack_read_results(\n\u001b[1;32m    416\u001b[0m     frames\u001b[38;5;241m=\u001b[39mframes,\n\u001b[1;32m    417\u001b[0m     read_multiple_workbooks\u001b[38;5;241m=\u001b[39mread_multiple_workbooks,\n\u001b[1;32m    418\u001b[0m )\n",
      "File \u001b[0;32m/opt/anaconda3/envs/greenlake0/lib/python3.11/site-packages/polars/io/spreadsheet/functions.py:668\u001b[0m, in \u001b[0;36m_read_spreadsheet\u001b[0;34m(source, sheet_id, sheet_name, table_name, engine, engine_options, read_options, schema_overrides, infer_schema_length, include_file_paths, columns, has_header, raise_if_empty, drop_empty_rows, drop_empty_cols)\u001b[0m\n\u001b[1;32m    665\u001b[0m schema_overrides \u001b[38;5;241m=\u001b[39m \u001b[38;5;28mdict\u001b[39m(schema_overrides \u001b[38;5;129;01mor\u001b[39;00m {})\n\u001b[1;32m    667\u001b[0m \u001b[38;5;66;03m# establish the reading function, parser, and available worksheets\u001b[39;00m\n\u001b[0;32m--> 668\u001b[0m reader_fn, parser, worksheets \u001b[38;5;241m=\u001b[39m _initialise_spreadsheet_parser(\n\u001b[1;32m    669\u001b[0m     engine, source, engine_options\n\u001b[1;32m    670\u001b[0m )\n\u001b[1;32m    671\u001b[0m \u001b[38;5;28;01mtry\u001b[39;00m:\n\u001b[1;32m    672\u001b[0m     \u001b[38;5;66;03m# parse data from the indicated sheet(s)\u001b[39;00m\n\u001b[1;32m    673\u001b[0m     sheet_names, return_multiple_sheets \u001b[38;5;241m=\u001b[39m _get_sheet_names(\n\u001b[1;32m    674\u001b[0m         sheet_id, sheet_name, table_name, worksheets\n\u001b[1;32m    675\u001b[0m     )\n",
      "File \u001b[0;32m/opt/anaconda3/envs/greenlake0/lib/python3.11/site-packages/polars/io/spreadsheet/functions.py:852\u001b[0m, in \u001b[0;36m_initialise_spreadsheet_parser\u001b[0;34m(engine, source, engine_options)\u001b[0m\n\u001b[1;32m    849\u001b[0m     \u001b[38;5;28;01mreturn\u001b[39;00m _read_spreadsheet_openpyxl, parser, sheets\n\u001b[1;32m    851\u001b[0m \u001b[38;5;28;01melif\u001b[39;00m engine \u001b[38;5;241m==\u001b[39m \u001b[38;5;124m\"\u001b[39m\u001b[38;5;124mcalamine\u001b[39m\u001b[38;5;124m\"\u001b[39m:\n\u001b[0;32m--> 852\u001b[0m     fastexcel \u001b[38;5;241m=\u001b[39m import_optional(\u001b[38;5;124m\"\u001b[39m\u001b[38;5;124mfastexcel\u001b[39m\u001b[38;5;124m\"\u001b[39m, min_version\u001b[38;5;241m=\u001b[39m\u001b[38;5;124m\"\u001b[39m\u001b[38;5;124m0.7.0\u001b[39m\u001b[38;5;124m\"\u001b[39m)\n\u001b[1;32m    853\u001b[0m     reading_bytesio, reading_bytes \u001b[38;5;241m=\u001b[39m (\n\u001b[1;32m    854\u001b[0m         \u001b[38;5;28misinstance\u001b[39m(source, BytesIO),\n\u001b[1;32m    855\u001b[0m         \u001b[38;5;28misinstance\u001b[39m(source, \u001b[38;5;28mbytes\u001b[39m),\n\u001b[1;32m    856\u001b[0m     )\n\u001b[1;32m    857\u001b[0m     \u001b[38;5;28;01mif\u001b[39;00m (reading_bytesio \u001b[38;5;129;01mor\u001b[39;00m reading_bytes) \u001b[38;5;129;01mand\u001b[39;00m parse_version(\n\u001b[1;32m    858\u001b[0m         module_version \u001b[38;5;241m:=\u001b[39m fastexcel\u001b[38;5;241m.\u001b[39m__version__\n\u001b[1;32m    859\u001b[0m     ) \u001b[38;5;241m<\u001b[39m (\u001b[38;5;241m0\u001b[39m, \u001b[38;5;241m10\u001b[39m):\n",
      "File \u001b[0;32m/opt/anaconda3/envs/greenlake0/lib/python3.11/site-packages/polars/dependencies.py:274\u001b[0m, in \u001b[0;36mimport_optional\u001b[0;34m(module_name, err_prefix, err_suffix, min_version, min_err_prefix, install_message)\u001b[0m\n\u001b[1;32m    269\u001b[0m     suffix \u001b[38;5;241m=\u001b[39m \u001b[38;5;124mf\u001b[39m\u001b[38;5;124m\"\u001b[39m\u001b[38;5;124m \u001b[39m\u001b[38;5;132;01m{\u001b[39;00merr_suffix\u001b[38;5;241m.\u001b[39mstrip(\u001b[38;5;124m'\u001b[39m\u001b[38;5;124m \u001b[39m\u001b[38;5;124m'\u001b[39m)\u001b[38;5;132;01m}\u001b[39;00m\u001b[38;5;124m\"\u001b[39m \u001b[38;5;28;01mif\u001b[39;00m err_suffix \u001b[38;5;28;01melse\u001b[39;00m \u001b[38;5;124m\"\u001b[39m\u001b[38;5;124m\"\u001b[39m\n\u001b[1;32m    270\u001b[0m     err_message \u001b[38;5;241m=\u001b[39m \u001b[38;5;124mf\u001b[39m\u001b[38;5;124m\"\u001b[39m\u001b[38;5;132;01m{\u001b[39;00mprefix\u001b[38;5;132;01m}\u001b[39;00m\u001b[38;5;124m'\u001b[39m\u001b[38;5;132;01m{\u001b[39;00mmodule_name\u001b[38;5;132;01m}\u001b[39;00m\u001b[38;5;124m'\u001b[39m\u001b[38;5;132;01m{\u001b[39;00msuffix\u001b[38;5;132;01m}\u001b[39;00m\u001b[38;5;124m.\u001b[39m\u001b[38;5;130;01m\\n\u001b[39;00m\u001b[38;5;124m\"\u001b[39m \u001b[38;5;241m+\u001b[39m (\n\u001b[1;32m    271\u001b[0m         install_message\n\u001b[1;32m    272\u001b[0m         \u001b[38;5;129;01mor\u001b[39;00m \u001b[38;5;124mf\u001b[39m\u001b[38;5;124m\"\u001b[39m\u001b[38;5;124mPlease install using the command `pip install \u001b[39m\u001b[38;5;132;01m{\u001b[39;00mmodule_root\u001b[38;5;132;01m}\u001b[39;00m\u001b[38;5;124m`.\u001b[39m\u001b[38;5;124m\"\u001b[39m\n\u001b[1;32m    273\u001b[0m     )\n\u001b[0;32m--> 274\u001b[0m     \u001b[38;5;28;01mraise\u001b[39;00m \u001b[38;5;167;01mModuleNotFoundError\u001b[39;00m(err_message) \u001b[38;5;28;01mfrom\u001b[39;00m \u001b[38;5;28;01mNone\u001b[39;00m\n\u001b[1;32m    276\u001b[0m \u001b[38;5;28;01mif\u001b[39;00m min_version:\n\u001b[1;32m    277\u001b[0m     min_version \u001b[38;5;241m=\u001b[39m parse_version(min_version)\n",
      "\u001b[0;31mModuleNotFoundError\u001b[0m: required package 'fastexcel' not found.\nPlease install using the command `pip install fastexcel`."
     ]
    }
   ],
   "source": [
    "df = load_food_data('Nutrient Values')\n",
    "df"
   ]
  },
  {
   "cell_type": "code",
   "execution_count": 21,
   "id": "3335da70",
   "metadata": {},
   "outputs": [
    {
     "data": {
      "text/html": [
       "<div><style>\n",
       ".dataframe > thead > tr,\n",
       ".dataframe > tbody > tr {\n",
       "  text-align: right;\n",
       "  white-space: pre-wrap;\n",
       "}\n",
       "</style>\n",
       "<small>shape: (155_243, 11)</small><table border=\"1\" class=\"dataframe\"><thead><tr><th>id</th><th>fdc_id</th><th>nutrient_id</th><th>amount</th><th>data_points</th><th>derivation_id</th><th>min</th><th>max</th><th>median</th><th>footnote</th><th>min_year_acquired</th></tr><tr><td>i64</td><td>i64</td><td>i64</td><td>f64</td><td>i64</td><td>i64</td><td>str</td><td>str</td><td>str</td><td>str</td><td>str</td></tr></thead><tbody><tr><td>2201847</td><td>319877</td><td>1051</td><td>56.3</td><td>1</td><td>1</td><td>&quot;&quot;</td><td>&quot;&quot;</td><td>&quot;&quot;</td><td>&quot;&quot;</td><td>&quot;&quot;</td></tr><tr><td>2201845</td><td>319877</td><td>1002</td><td>1.28</td><td>1</td><td>1</td><td>&quot;&quot;</td><td>&quot;&quot;</td><td>&quot;&quot;</td><td>&quot;&quot;</td><td>&quot;&quot;</td></tr><tr><td>2201846</td><td>319877</td><td>1004</td><td>19.0</td><td>1</td><td>1</td><td>&quot;&quot;</td><td>&quot;&quot;</td><td>&quot;&quot;</td><td>&quot;&quot;</td><td>&quot;&quot;</td></tr><tr><td>2201844</td><td>319877</td><td>1007</td><td>1.98</td><td>1</td><td>1</td><td>&quot;&quot;</td><td>&quot;&quot;</td><td>&quot;&quot;</td><td>&quot;&quot;</td><td>&quot;&quot;</td></tr><tr><td>2201852</td><td>319878</td><td>1091</td><td>188.0</td><td>1</td><td>1</td><td>&quot;&quot;</td><td>&quot;&quot;</td><td>&quot;&quot;</td><td>&quot;&quot;</td><td>&quot;&quot;</td></tr><tr><td>&hellip;</td><td>&hellip;</td><td>&hellip;</td><td>&hellip;</td><td>&hellip;</td><td>&hellip;</td><td>&hellip;</td><td>&hellip;</td><td>&hellip;</td><td>&hellip;</td><td>&hellip;</td></tr><tr><td>34678645</td><td>2731069</td><td>1051</td><td>94.13</td><td>1</td><td>1</td><td>&quot;&quot;</td><td>&quot;&quot;</td><td>&quot;&quot;</td><td>&quot;&quot;</td><td>&quot;&quot;</td></tr><tr><td>34678646</td><td>2731070</td><td>1051</td><td>93.86</td><td>1</td><td>1</td><td>&quot;&quot;</td><td>&quot;&quot;</td><td>&quot;&quot;</td><td>&quot;&quot;</td><td>&quot;&quot;</td></tr><tr><td>34678647</td><td>2731071</td><td>1051</td><td>93.52</td><td>1</td><td>1</td><td>&quot;&quot;</td><td>&quot;&quot;</td><td>&quot;&quot;</td><td>&quot;&quot;</td><td>&quot;&quot;</td></tr><tr><td>34678648</td><td>2731072</td><td>1051</td><td>95.07</td><td>1</td><td>1</td><td>&quot;&quot;</td><td>&quot;&quot;</td><td>&quot;&quot;</td><td>&quot;&quot;</td><td>&quot;&quot;</td></tr><tr><td>34678649</td><td>2731073</td><td>1051</td><td>93.82</td><td>1</td><td>1</td><td>&quot;&quot;</td><td>&quot;&quot;</td><td>&quot;&quot;</td><td>&quot;&quot;</td><td>&quot;&quot;</td></tr></tbody></table></div>"
      ],
      "text/plain": [
       "shape: (155_243, 11)\n",
       "┌──────────┬─────────┬─────────────┬────────┬───┬─────┬────────┬──────────┬───────────────────┐\n",
       "│ id       ┆ fdc_id  ┆ nutrient_id ┆ amount ┆ … ┆ max ┆ median ┆ footnote ┆ min_year_acquired │\n",
       "│ ---      ┆ ---     ┆ ---         ┆ ---    ┆   ┆ --- ┆ ---    ┆ ---      ┆ ---               │\n",
       "│ i64      ┆ i64     ┆ i64         ┆ f64    ┆   ┆ str ┆ str    ┆ str      ┆ str               │\n",
       "╞══════════╪═════════╪═════════════╪════════╪═══╪═════╪════════╪══════════╪═══════════════════╡\n",
       "│ 2201847  ┆ 319877  ┆ 1051        ┆ 56.3   ┆ … ┆     ┆        ┆          ┆                   │\n",
       "│ 2201845  ┆ 319877  ┆ 1002        ┆ 1.28   ┆ … ┆     ┆        ┆          ┆                   │\n",
       "│ 2201846  ┆ 319877  ┆ 1004        ┆ 19.0   ┆ … ┆     ┆        ┆          ┆                   │\n",
       "│ 2201844  ┆ 319877  ┆ 1007        ┆ 1.98   ┆ … ┆     ┆        ┆          ┆                   │\n",
       "│ 2201852  ┆ 319878  ┆ 1091        ┆ 188.0  ┆ … ┆     ┆        ┆          ┆                   │\n",
       "│ …        ┆ …       ┆ …           ┆ …      ┆ … ┆ …   ┆ …      ┆ …        ┆ …                 │\n",
       "│ 34678645 ┆ 2731069 ┆ 1051        ┆ 94.13  ┆ … ┆     ┆        ┆          ┆                   │\n",
       "│ 34678646 ┆ 2731070 ┆ 1051        ┆ 93.86  ┆ … ┆     ┆        ┆          ┆                   │\n",
       "│ 34678647 ┆ 2731071 ┆ 1051        ┆ 93.52  ┆ … ┆     ┆        ┆          ┆                   │\n",
       "│ 34678648 ┆ 2731072 ┆ 1051        ┆ 95.07  ┆ … ┆     ┆        ┆          ┆                   │\n",
       "│ 34678649 ┆ 2731073 ┆ 1051        ┆ 93.82  ┆ … ┆     ┆        ┆          ┆                   │\n",
       "└──────────┴─────────┴─────────────┴────────┴───┴─────┴────────┴──────────┴───────────────────┘"
      ]
     },
     "execution_count": 21,
     "metadata": {},
     "output_type": "execute_result"
    }
   ],
   "source": [
    "dg = load_food_data('food_nutrient')\n",
    "dg"
   ]
  },
  {
   "cell_type": "code",
   "execution_count": 24,
   "id": "02f7dff5",
   "metadata": {},
   "outputs": [
    {
     "data": {
      "text/html": [
       "<div><style>\n",
       ".dataframe > thead > tr,\n",
       ".dataframe > tbody > tr {\n",
       "  text-align: right;\n",
       "  white-space: pre-wrap;\n",
       "}\n",
       "</style>\n",
       "<small>shape: (1, 5)</small><table border=\"1\" class=\"dataframe\"><thead><tr><th>fdc_id</th><th>data_type</th><th>description</th><th>food_category_id</th><th>publication_date</th></tr><tr><td>i64</td><td>str</td><td>str</td><td>i64</td><td>str</td></tr></thead><tbody><tr><td>319877</td><td>&quot;sub_sample_food&quot;</td><td>&quot;Hummus&quot;</td><td>16</td><td>&quot;2019-04-01&quot;</td></tr></tbody></table></div>"
      ],
      "text/plain": [
       "shape: (1, 5)\n",
       "┌────────┬─────────────────┬─────────────┬──────────────────┬──────────────────┐\n",
       "│ fdc_id ┆ data_type       ┆ description ┆ food_category_id ┆ publication_date │\n",
       "│ ---    ┆ ---             ┆ ---         ┆ ---              ┆ ---              │\n",
       "│ i64    ┆ str             ┆ str         ┆ i64              ┆ str              │\n",
       "╞════════╪═════════════════╪═════════════╪══════════════════╪══════════════════╡\n",
       "│ 319877 ┆ sub_sample_food ┆ Hummus      ┆ 16               ┆ 2019-04-01       │\n",
       "└────────┴─────────────────┴─────────────┴──────────────────┴──────────────────┘"
      ]
     },
     "execution_count": 24,
     "metadata": {},
     "output_type": "execute_result"
    }
   ],
   "source": [
    "df.filter(pl.col('fdc_id') == 319877)"
   ]
  },
  {
   "cell_type": "code",
   "execution_count": 23,
   "id": "c731ada5",
   "metadata": {},
   "outputs": [
    {
     "data": {
      "text/html": [
       "<div><style>\n",
       ".dataframe > thead > tr,\n",
       ".dataframe > tbody > tr {\n",
       "  text-align: right;\n",
       "  white-space: pre-wrap;\n",
       "}\n",
       "</style>\n",
       "<small>shape: (4, 11)</small><table border=\"1\" class=\"dataframe\"><thead><tr><th>id</th><th>fdc_id</th><th>nutrient_id</th><th>amount</th><th>data_points</th><th>derivation_id</th><th>min</th><th>max</th><th>median</th><th>footnote</th><th>min_year_acquired</th></tr><tr><td>i64</td><td>i64</td><td>i64</td><td>f64</td><td>i64</td><td>i64</td><td>str</td><td>str</td><td>str</td><td>str</td><td>str</td></tr></thead><tbody><tr><td>2201847</td><td>319877</td><td>1051</td><td>56.3</td><td>1</td><td>1</td><td>&quot;&quot;</td><td>&quot;&quot;</td><td>&quot;&quot;</td><td>&quot;&quot;</td><td>&quot;&quot;</td></tr><tr><td>2201845</td><td>319877</td><td>1002</td><td>1.28</td><td>1</td><td>1</td><td>&quot;&quot;</td><td>&quot;&quot;</td><td>&quot;&quot;</td><td>&quot;&quot;</td><td>&quot;&quot;</td></tr><tr><td>2201846</td><td>319877</td><td>1004</td><td>19.0</td><td>1</td><td>1</td><td>&quot;&quot;</td><td>&quot;&quot;</td><td>&quot;&quot;</td><td>&quot;&quot;</td><td>&quot;&quot;</td></tr><tr><td>2201844</td><td>319877</td><td>1007</td><td>1.98</td><td>1</td><td>1</td><td>&quot;&quot;</td><td>&quot;&quot;</td><td>&quot;&quot;</td><td>&quot;&quot;</td><td>&quot;&quot;</td></tr></tbody></table></div>"
      ],
      "text/plain": [
       "shape: (4, 11)\n",
       "┌─────────┬────────┬─────────────┬────────┬───┬─────┬────────┬──────────┬───────────────────┐\n",
       "│ id      ┆ fdc_id ┆ nutrient_id ┆ amount ┆ … ┆ max ┆ median ┆ footnote ┆ min_year_acquired │\n",
       "│ ---     ┆ ---    ┆ ---         ┆ ---    ┆   ┆ --- ┆ ---    ┆ ---      ┆ ---               │\n",
       "│ i64     ┆ i64    ┆ i64         ┆ f64    ┆   ┆ str ┆ str    ┆ str      ┆ str               │\n",
       "╞═════════╪════════╪═════════════╪════════╪═══╪═════╪════════╪══════════╪═══════════════════╡\n",
       "│ 2201847 ┆ 319877 ┆ 1051        ┆ 56.3   ┆ … ┆     ┆        ┆          ┆                   │\n",
       "│ 2201845 ┆ 319877 ┆ 1002        ┆ 1.28   ┆ … ┆     ┆        ┆          ┆                   │\n",
       "│ 2201846 ┆ 319877 ┆ 1004        ┆ 19.0   ┆ … ┆     ┆        ┆          ┆                   │\n",
       "│ 2201844 ┆ 319877 ┆ 1007        ┆ 1.98   ┆ … ┆     ┆        ┆          ┆                   │\n",
       "└─────────┴────────┴─────────────┴────────┴───┴─────┴────────┴──────────┴───────────────────┘"
      ]
     },
     "execution_count": 23,
     "metadata": {},
     "output_type": "execute_result"
    }
   ],
   "source": [
    "dg.filter(pl.col('fdc_id') == 319877)"
   ]
  },
  {
   "cell_type": "code",
   "execution_count": null,
   "id": "e104262a",
   "metadata": {},
   "outputs": [],
   "source": []
  }
 ],
 "metadata": {
  "kernelspec": {
   "display_name": "greenlake0",
   "language": "python",
   "name": "python3"
  },
  "language_info": {
   "codemirror_mode": {
    "name": "ipython",
    "version": 3
   },
   "file_extension": ".py",
   "mimetype": "text/x-python",
   "name": "python",
   "nbconvert_exporter": "python",
   "pygments_lexer": "ipython3",
   "version": "3.11.11"
  }
 },
 "nbformat": 4,
 "nbformat_minor": 5
}
